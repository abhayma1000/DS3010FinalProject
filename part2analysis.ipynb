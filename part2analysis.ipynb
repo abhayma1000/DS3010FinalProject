{
 "cells": [
  {
   "cell_type": "code",
   "execution_count": null,
   "metadata": {},
   "outputs": [],
   "source": [
    "import smtplib\n",
    "from email.mime.text import MIMEText\n",
    "import time\n",
    "\n",
    "# Email configuration\n",
    "SMTP_SERVER = \"smtp.gmail.com\"  # For Gmail, change if using Outlook or another service\n",
    "SMTP_PORT = 465  # SSL port (or use 587 for TLS)\n",
    "SENDER_EMAIL = \"abhaymathur1000@gmail.com\"  # Replace with your email\n",
    "SENDER_PASSWORD = \"blom axpb quot zcdv\"  # Replace with your email password\n",
    "RECEIVER_EMAIL = \"abhaymathur1000@gmail.com\"  # Your email (or another recipient)\n",
    "\n",
    "def send_email(subject, body=\"\"):\n",
    "    \"\"\"Sends an email notification\"\"\"\n",
    "    msg = MIMEText(body)\n",
    "    msg[\"Subject\"] = subject\n",
    "    msg[\"From\"] = SENDER_EMAIL\n",
    "    msg[\"To\"] = RECEIVER_EMAIL\n",
    "\n",
    "    try:\n",
    "        with smtplib.SMTP_SSL(SMTP_SERVER, SMTP_PORT) as server:\n",
    "            server.login(SENDER_EMAIL, SENDER_PASSWORD)\n",
    "            server.sendmail(SENDER_EMAIL, RECEIVER_EMAIL, msg.as_string())\n",
    "        print(\"Email sent successfully!\")\n",
    "    except Exception as e:\n",
    "        print(f\"Error sending email: {e}\")\n",
    "\n",
    "\n",
    "\n",
    "# Notify when the script completes\n",
    "# send_email(\"✅ Script Completed\", \"Your Python script has finished running.\")\n",
    "\n",
    "start_time = time.time()\n",
    "\n",
    "def get_time_from_start(start_time):\n",
    "    elapsed_time = time.time() - start_time\n",
    "    hours, rem = divmod(elapsed_time, 3600)\n",
    "    minutes, seconds = divmod(rem, 60)\n",
    "    return f\"{int(hours):02}:{int(minutes):02}:{seconds:05.2f}\"\n"
   ]
  },
  {
   "cell_type": "code",
   "execution_count": null,
   "metadata": {},
   "outputs": [],
   "source": [
    "# Import Libraries\n",
    "import os\n",
    "import pandas as pd\n",
    "import kagglehub\n",
    "import time\n",
    "import datetime\n",
    "import torch\n",
    "import torch.nn as nn\n",
    "from torch.utils.data import TensorDataset, DataLoader, RandomSampler, SequentialSampler, random_split\n",
    "from sklearn.model_selection import train_test_split\n",
    "from sklearn.metrics import classification_report\n",
    "from sklearn.preprocessing import MultiLabelBinarizer\n",
    "import transformers\n",
    "from transformers import BertForSequenceClassification, AdamW, BertConfig, BertTokenizer, get_linear_schedule_with_warmup, BertModel\n",
    "from IPython.display import display, clear_output\n",
    "import dask.dataframe as dd\n",
    "import numpy as np"
   ]
  },
  {
   "cell_type": "code",
   "execution_count": null,
   "metadata": {},
   "outputs": [],
   "source": [
    "if os.path.exists(\"/kaggle\"):\n",
    "    path = \"/kaggle/input/yelp-dataset\"\n",
    "elif os.path.exists('/home/abhaydesktop/.cache/kagglehub/datasets/yelp-dataset/yelp-dataset/versions/4'):\n",
    "    path = '/home/abhaydesktop/.cache/kagglehub/datasets/yelp-dataset/yelp-dataset/versions/4'\n",
    "else:\n",
    "    path = kagglehub.dataset_download(\"yelp-dataset/yelp-dataset\")\n",
    "print(\"Path to dataset files:\", path)\n",
    "\n",
    "\n",
    "\n",
    "def load_data(path, filename, chunk_size=10000):\n",
    "    chunks = pd.read_json(os.path.join(path, filename), lines=True, chunksize=chunk_size)\n",
    "\n",
    "    df_list = []\n",
    "\n",
    "    for chunk in chunks:\n",
    "        df_list.append(chunk)\n",
    "\n",
    "\n",
    "    return pd.concat(df_list, ignore_index=True)\n",
    "\n"
   ]
  }
 ],
 "metadata": {
  "kernelspec": {
   "display_name": "venv",
   "language": "python",
   "name": "python3"
  },
  "language_info": {
   "name": "python",
   "version": "3.12.3"
  }
 },
 "nbformat": 4,
 "nbformat_minor": 2
}
