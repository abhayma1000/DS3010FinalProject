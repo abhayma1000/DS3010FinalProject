{
 "cells": [
  {
   "cell_type": "code",
   "execution_count": 1,
   "metadata": {},
   "outputs": [],
   "source": [
    "# %%\n",
    "import smtplib\n",
    "from email.mime.text import MIMEText\n",
    "import time\n",
    "\n",
    "# Email configuration\n",
    "SMTP_SERVER = \"smtp.gmail.com\"  # For Gmail, change if using Outlook or another service\n",
    "SMTP_PORT = 465  # SSL port (or use 587 for TLS)\n",
    "SENDER_EMAIL = \"abhaymathur1000@gmail.com\"  # Replace with your email\n",
    "SENDER_PASSWORD = \"blom axpb quot zcdv\"  # Replace with your email password\n",
    "RECEIVER_EMAIL = \"abhaymathur1000@gmail.com\"  # Your email (or another recipient)\n",
    "\n",
    "def send_email(subject, body=\"\"):\n",
    "    \"\"\"Sends an email notification\"\"\"\n",
    "    msg = MIMEText(body)\n",
    "    msg[\"Subject\"] = subject\n",
    "    msg[\"From\"] = SENDER_EMAIL\n",
    "    msg[\"To\"] = RECEIVER_EMAIL\n",
    "\n",
    "    try:\n",
    "        with smtplib.SMTP_SSL(SMTP_SERVER, SMTP_PORT) as server:\n",
    "            server.login(SENDER_EMAIL, SENDER_PASSWORD)\n",
    "            server.sendmail(SENDER_EMAIL, RECEIVER_EMAIL, msg.as_string())\n",
    "        print(\"Email sent successfully!\")\n",
    "    except Exception as e:\n",
    "        print(f\"Error sending email: {e}\")\n",
    "\n",
    "\n",
    "\n",
    "# Notify when the script completes\n",
    "# send_email(\"✅ Script Completed\", \"Your Python script has finished running.\")\n",
    "\n",
    "start_time = time.time()\n",
    "\n",
    "def get_time_from_start(start_time):\n",
    "    elapsed_time = time.time() - start_time\n",
    "    hours, rem = divmod(elapsed_time, 3600)\n",
    "    minutes, seconds = divmod(rem, 60)\n",
    "    return f\"{int(hours):02}:{int(minutes):02}:{seconds:05.2f}\""
   ]
  },
  {
   "cell_type": "code",
   "execution_count": 2,
   "metadata": {},
   "outputs": [
    {
     "name": "stderr",
     "output_type": "stream",
     "text": [
      "/home/amathur3/ondemand/DS3010New/venv/lib/python3.11/site-packages/tqdm/auto.py:21: TqdmWarning: IProgress not found. Please update jupyter and ipywidgets. See https://ipywidgets.readthedocs.io/en/stable/user_install.html\n",
      "  from .autonotebook import tqdm as notebook_tqdm\n"
     ]
    }
   ],
   "source": [
    "# Import Libraries\n",
    "import os\n",
    "import pandas as pd\n",
    "import kagglehub\n",
    "import time\n",
    "import datetime\n",
    "from sklearn.model_selection import train_test_split\n",
    "from sklearn.metrics import classification_report\n",
    "from sklearn.preprocessing import MultiLabelBinarizer\n",
    "from IPython.display import display, clear_output\n",
    "import dask.dataframe as dd\n",
    "import numpy as np\n",
    "\n",
    "import fastparquet\n",
    "import pyarrow\n",
    "import pyarrow.parquet as pq\n",
    "\n",
    "import matplotlib.pyplot as plt"
   ]
  },
  {
   "cell_type": "code",
   "execution_count": 3,
   "metadata": {},
   "outputs": [],
   "source": [
    "# Load data and preprocess\n",
    "def load_data(data_path, n_part):\n",
    "\tif n_part > 0:\n",
    "\t\tfile_count = len([f for f in os.listdir(data_path) if os.path.isfile(os.path.join(data_path, f))])\n",
    "\n",
    "\t\tfor i in range(min(n_part, file_count)):\n",
    "\t\t\tread_df = dd.read_parquet(os.path.join(data_path, f\"output_part_{i}.parquet\"), engine=\"pyarrow\")\n",
    "\t\t\tdf_dask = read_df if i == 0 else dd.concat([df_dask, read_df])\n",
    "\telse:\n",
    "\t\tdf_dask = dd.read_parquet(data_path, engine=\"pyarrow\")\n",
    "\n",
    "\tall_df = df_dask.compute()\n",
    "\treturn all_df"
   ]
  },
  {
   "cell_type": "code",
   "execution_count": 4,
   "metadata": {},
   "outputs": [],
   "source": [
    "data = load_data('data/lemm_stop_reviews_parquet', 1)"
   ]
  },
  {
   "cell_type": "code",
   "execution_count": 5,
   "metadata": {},
   "outputs": [],
   "source": [
    "# display(data.shape)\n",
    "# display(data.columns)\n",
    "# display(data.head(5))"
   ]
  },
  {
   "cell_type": "code",
   "execution_count": 6,
   "metadata": {},
   "outputs": [],
   "source": [
    "# # Get the value counts\n",
    "# name_counts = data['name'].value_counts()\n",
    "\n",
    "# name_counts = np.log(name_counts)\n",
    "\n",
    "# # Plot the value counts\n",
    "# name_counts.plot(kind='bar')\n",
    "\n",
    "# # Add title and labels\n",
    "# plt.title('Name Occurrences')\n",
    "# plt.xlabel('Names')\n",
    "# plt.ylabel('Counts')\n",
    "# # plt.ylim([0, 750])\n",
    "\n",
    "# # Show the plot\n",
    "# plt.show()"
   ]
  },
  {
   "cell_type": "code",
   "execution_count": 7,
   "metadata": {},
   "outputs": [],
   "source": [
    "# coords = (float(data.iloc[0]['latitude']), float(data.iloc[0]['longitude']))\n",
    "\n",
    "# data['latitude'] = data['latitude'].astype(float)\n",
    "# data['longitude'] = data['longitude'].astype(float)\n",
    "\n",
    "# data['lat_diff'] = np.abs(data['latitude'] - coords[0])\n",
    "# data['lon_diff'] = np.abs(data['longitude'] - coords[1])\n",
    "# data['pyth_diff'] = np.sqrt(data['lat_diff']**2 + data['lon_diff']**2)\n",
    "\n",
    "# closest_idx = data['pyth_diff'][data['pyth_diff'] > 0.0].idxmin()\n",
    "# closest_coords = (float(data.iloc[closest_idx]['latitude']), float(data.iloc[closest_idx]['longitude']))\n",
    "# closest_diff = data.iloc[closest_idx]['pyth_diff']\n",
    "\n",
    "# farthest_idx = data['pyth_diff'][data['pyth_diff'] > 0.0].idxmax()\n",
    "# farthese_coords = (float(data.iloc[farthest_idx]['latitude']), float(data.iloc[farthest_idx]['longitude']))\n",
    "# farthest_diff = data.iloc[farthest_idx]['pyth_diff']\n",
    "\n",
    "\n",
    "# print(\"Coords: \", coords)\n",
    "# print(\"Closest Coords: \", closest_coords)\n",
    "# print(\"Closest Diff: \", closest_diff)\n",
    "# print(\"Farthest Coords: \", farthese_coords)\n",
    "# print(\"Farthest Diff: \", farthest_diff)\n"
   ]
  },
  {
   "cell_type": "code",
   "execution_count": 8,
   "metadata": {},
   "outputs": [],
   "source": [
    "# density_lists = [0.029, 45]"
   ]
  },
  {
   "cell_type": "code",
   "execution_count": 9,
   "metadata": {},
   "outputs": [],
   "source": [
    "# # Define the minimum and maximum values\n",
    "# min_val = 0.029\n",
    "# max_val = 45\n",
    "\n",
    "# # Define the number of points in the range\n",
    "# num_points = 20\n",
    "\n",
    "# # Create an exponential range from min_val to max_val\n",
    "# exp_range = np.logspace(np.log10(min_val), np.log10(max_val), num=num_points)\n",
    "\n",
    "# print(\"Exponential range from MIN to MAX:\")\n",
    "# print(exp_range)"
   ]
  },
  {
   "cell_type": "code",
   "execution_count": 10,
   "metadata": {},
   "outputs": [],
   "source": [
    "# data['latitude'] = data['latitude'].astype(float)\n",
    "# data['longitude'] = data['longitude'].astype(float)\n",
    "\n",
    "# fig, axes = plt.subplots(nrows=len(exp_range), ncols=1, figsize=(10, 5 * len(exp_range)))\n",
    "\n",
    "# for idx, val in enumerate(exp_range):\n",
    "#     for i in range(len(data)):\n",
    "#         lat, long = data.iloc[i]['latitude'], data.iloc[i]['longitude']\n",
    "#         data['lat_diff'] = np.abs(data['latitude'] - lat)\n",
    "#         data['lon_diff'] = np.abs(data['longitude'] - long)\n",
    "#         data['pyth_diff'] = np.sqrt(data['lat_diff']**2 + data['lon_diff']**2)\n",
    "#         data['density'] = len(data[data['pyth_diff'] < val])\n",
    "#     plot_data = data['density'].value_counts()\n",
    "#     plot_data.plot(kind='bar', ax=axes[idx])\n",
    "#     axes[idx].set_title(f'Density Occurrences for exp_range value: {val}')\n",
    "#     axes[idx].set_xlabel('Density')\n",
    "#     axes[idx].set_ylabel('Counts')\n",
    "\n",
    "# plt.tight_layout()\n",
    "# fig.savefig(os.path.join('images', 'density_subplots.png'))\n",
    "# # plt.show()\n"
   ]
  },
  {
   "cell_type": "code",
   "execution_count": 11,
   "metadata": {},
   "outputs": [],
   "source": [
    "import numpy as np\n",
    "from scipy.stats import gaussian_kde\n",
    "import pandas as pd"
   ]
  },
  {
   "cell_type": "code",
   "execution_count": 12,
   "metadata": {},
   "outputs": [
    {
     "data": {
      "image/png": "[encoded data removed]",
      "text/plain": [
       "<Figure size 1000x500 with 1 Axes>"
      ]
     },
     "metadata": {},
     "output_type": "display_data"
    },
    {
     "data": {
      "image/png": "[encoded data removed]",
      "text/plain": [
       "<Figure size 640x480 with 1 Axes>"
      ]
     },
     "metadata": {},
     "output_type": "display_data"
    },
    {
     "name": "stdout",
     "output_type": "stream",
     "text": [
      "Email sent successfully!\n"
     ]
    }
   ],
   "source": [
    "# Extract latitude and longitude as a 2D array\n",
    "\n",
    "# data = data.sample(n=1000)\n",
    "\n",
    "coords = data[['latitude', 'longitude']].values.T\n",
    "\n",
    "# Perform Kernel Density Estimation\n",
    "kde = gaussian_kde(coords)\n",
    "\n",
    "# Evaluate the density score for each point\n",
    "density_scores = kde(coords)\n",
    "\n",
    "# Add the density scores to the DataFrame\n",
    "data['density_score'] = density_scores\n",
    "\n",
    "data['density_score'] = data['density_score'].astype(float)\n",
    "\n",
    "# Normalize density_score\n",
    "data['density_score'] = (data['density_score'] - data['density_score'].min()) / (data['density_score'].max() - data['density_score'].min())\n",
    "\n",
    "# Plot a distribution of the density scores\n",
    "plt.figure(figsize=(10, 5))\n",
    "plt.hist(data['density_score'], bins=50)\n",
    "plt.title('Density Score Distribution')\n",
    "plt.xlabel('Density Score')\n",
    "plt.ylabel('Counts')\n",
    "plt.show()\n",
    "\n",
    "\n",
    "plt.scatter([i for i in range(len(data['density_score']))], data['density_score'])\n",
    "plt.title('Density Score')\n",
    "plt.xlabel('Index')\n",
    "plt.ylabel('Density Score')\n",
    "plt.show()\n",
    "\n",
    "send_email(\"✅ Density Script Completed\", \"Your Python script has finished running\\nTime taken: \" + get_time_from_start(start_time))\n"
   ]
  },
  {
   "cell_type": "code",
   "execution_count": null,
   "metadata": {},
   "outputs": [],
   "source": []
  }
 ],
 "metadata": {
  "kernelspec": {
   "display_name": "venv",
   "language": "python",
   "name": "python3"
  },
  "language_info": {
   "codemirror_mode": {
    "name": "ipython",
    "version": 3
   },
   "file_extension": ".py",
   "mimetype": "text/x-python",
   "name": "python",
   "nbconvert_exporter": "python",
   "pygments_lexer": "ipython3",
   "version": "3.12.3"
  }
 },
 "nbformat": 4,
 "nbformat_minor": 2
}
