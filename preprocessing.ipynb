{
 "cells": [
  {
   "cell_type": "markdown",
   "metadata": {},
   "source": [
    "# Setup Environment, Load Data"
   ]
  },
  {
   "cell_type": "code",
   "execution_count": null,
   "metadata": {},
   "outputs": [],
   "source": [
    "import smtplib\n",
    "from email.mime.text import MIMEText\n",
    "\n",
    "# Email configuration\n",
    "SMTP_SERVER = \"smtp.gmail.com\"  # For Gmail, change if using Outlook or another service\n",
    "SMTP_PORT = 465  # SSL port (or use 587 for TLS)\n",
    "SENDER_EMAIL = \"abhaymathur1000@gmail.com\"  # Replace with your email\n",
    "SENDER_PASSWORD = \"blom axpb quot zcdv\"  # Replace with your email password\n",
    "RECEIVER_EMAIL = \"abhaymathur1000@gmail.com\"  # Your email (or another recipient)\n",
    "\n",
    "def send_email(subject, body=\"\"):\n",
    "    \"\"\"Sends an email notification\"\"\"\n",
    "    msg = MIMEText(body)\n",
    "    msg[\"Subject\"] = subject\n",
    "    msg[\"From\"] = SENDER_EMAIL\n",
    "    msg[\"To\"] = RECEIVER_EMAIL\n",
    "\n",
    "    try:\n",
    "        with smtplib.SMTP_SSL(SMTP_SERVER, SMTP_PORT) as server:\n",
    "            server.login(SENDER_EMAIL, SENDER_PASSWORD)\n",
    "            server.sendmail(SENDER_EMAIL, RECEIVER_EMAIL, msg.as_string())\n",
    "        print(\"Email sent successfully!\")\n",
    "    except Exception as e:\n",
    "        print(f\"Error sending email: {e}\")\n",
    "\n",
    "\n",
    "\n",
    "# Notify when the script completes\n",
    "# send_email(\"✅ Script Completed\", \"Your Python script has finished running.\")\n"
   ]
  },
  {
   "cell_type": "code",
   "execution_count": null,
   "metadata": {
    "execution": {
     "iopub.execute_input": "2025-02-18T22:09:08.313079Z",
     "iopub.status.busy": "2025-02-18T22:09:08.312731Z",
     "iopub.status.idle": "2025-02-18T22:09:08.321441Z",
     "shell.execute_reply": "2025-02-18T22:09:08.320323Z",
     "shell.execute_reply.started": "2025-02-18T22:09:08.313050Z"
    },
    "trusted": true
   },
   "outputs": [],
   "source": [
    "#Import Libraries\n",
    "import os\n",
    "import json\n",
    "import csv\n",
    "import matplotlib.pyplot as plt\n",
    "import sklearn\n",
    "import numpy as np\n",
    "import pandas as pd\n",
    "import time\n",
    "import datetime\n",
    "import gc\n",
    "import random\n",
    "import re\n",
    "import time\n",
    "import spacy\n",
    "import kagglehub\n",
    "\n",
    "\n",
    "from sklearn.model_selection import train_test_split\n",
    "\n",
    "from nltk.corpus import stopwords\n",
    "from sklearn.model_selection import train_test_split\n",
    "from sklearn.metrics import classification_report\n",
    "from sklearn.preprocessing import MultiLabelBinarizer\n",
    "from IPython.display import display, clear_output\n",
    "\n",
    "import pyarrow\n",
    "import fastparquet\n",
    "import dask.dataframe as dd\n",
    "\n",
    "#NLP Packages\n",
    "# import tensorflow as tf\n",
    "# import torch\n",
    "# import torch.nn as nn\n",
    "# from torch.utils.data import TensorDataset, DataLoader, RandomSampler, SequentialSampler,random_split\n",
    "# from tensorflow.keras.preprocessing.text import one_hot\n",
    "# from tensorflow.keras.preprocessing.sequence import pad_sequences\n",
    "# from tensorflow.keras.models import Sequential\n",
    "# from tensorflow.keras.layers import Activation, Dropout, Dense\n",
    "# from tensorflow.keras.layers import Flatten, LSTM\n",
    "# from tensorflow.keras.layers import GlobalMaxPooling1D\n",
    "# from tensorflow.keras.models import Model\n",
    "# from tensorflow.keras.layers import Embedding\n",
    "# from tensorflow.keras.preprocessing.text import Tokenizer\n",
    "# from tensorflow.keras.layers import Input\n",
    "# from tensorflow.keras.layers import Concatenate\n",
    "# import transformers\n",
    "# from transformers import BertForSequenceClassification, AdamW, BertConfig,BertTokenizer,get_linear_schedule_with_warmup"
   ]
  },
  {
   "cell_type": "markdown",
   "metadata": {},
   "source": [
    "# Save data"
   ]
  },
  {
   "cell_type": "code",
   "execution_count": null,
   "metadata": {},
   "outputs": [],
   "source": [
    "def save_df(df, filename, path, num_files):\n",
    "    save_folder = os.path.join(path, filename)\n",
    "\n",
    "    num_folder = 0\n",
    "    while os.path.exists(save_folder):\n",
    "        num_folder += 1\n",
    "        save_folder = os.path.join(path, filename + f\"_{num_folder}\")\n",
    "    \n",
    "    if not os.path.exists(save_folder):\n",
    "        os.makedirs(save_folder)\n",
    "\n",
    "    chunk_size = len(df) // num_files\n",
    "\n",
    "    for i in range(num_files):\n",
    "        start_idx = i * chunk_size\n",
    "        end_idx = (i + 1) * chunk_size if i != num_files - 1 else len(df)  # Ensure last chunk gets all remaining rows\n",
    "        df_chunk = df.iloc[start_idx:end_idx]\n",
    "        df_chunk.to_parquet(os.path.join(save_folder, f\"output_part_{i}.parquet\"), engine=\"pyarrow\", index=False)\n",
    "\n",
    "    print(\"Output folder\", save_folder)\n",
    "    return save_folder"
   ]
  },
  {
   "cell_type": "code",
   "execution_count": null,
   "metadata": {},
   "outputs": [],
   "source": [
    "def save_dask_df(df, filename, path, num_files):\n",
    "    save_folder = os.path.join(path, filename)\n",
    "\n",
    "    num_folder = 0\n",
    "    while os.path.exists(save_folder):\n",
    "        num_folder += 1\n",
    "        save_folder = os.path.join(path, filename + f\"_{num_folder}\")\n",
    "    \n",
    "    if not os.path.exists(save_folder):\n",
    "        os.makedirs(save_folder)\n",
    "\n",
    "    # Repartition the DataFrame to the desired number of partitions\n",
    "    df = df.repartition(npartitions=num_files)\n",
    "\n",
    "    # Save the DataFrame to Parquet files\n",
    "    df.to_parquet(os.path.join(save_folder, \"*.parquet\"), engine=\"pyarrow\", write_index=False)\n",
    "\n",
    "    print(\"Output folder\", save_folder)\n",
    "    return save_folder"
   ]
  },
  {
   "cell_type": "markdown",
   "metadata": {},
   "source": [
    "# Read in data"
   ]
  },
  {
   "cell_type": "code",
   "execution_count": null,
   "metadata": {},
   "outputs": [],
   "source": [
    "def load_dask_data(save_folder):\n",
    "    # Load all Parquet files as a Dask DataFrame (lazy loading)\n",
    "    print(\"Loading from folder: \", save_folder)\n",
    "    df_dask = dd.read_parquet(os.path.join(save_folder, \"*.parquet\"), engine=\"pyarrow\")\n",
    "\n",
    "    display(df_dask.npartitions)\n",
    "\n",
    "    display(df_dask.head(5))\n",
    "\n",
    "    # for partition in df_dask.to_delayed():\n",
    "        # partition_df = partition.compute()  # Load only one partition into memory\n",
    "    #     print(partition_df.shape)  # Process chunk-by-chunk\n",
    "\n",
    "    return df_dask"
   ]
  },
  {
   "cell_type": "code",
   "execution_count": null,
   "metadata": {},
   "outputs": [],
   "source": [
    "if os.path.exists(\"/kaggle\"):\n",
    "    path = \"/kaggle/input/yelp-dataset\"\n",
    "elif os.path.exists('/home/abhaydesktop/.cache/kagglehub/datasets/yelp-dataset/yelp-dataset/versions/4'):\n",
    "    path = '/home/abhaydesktop/.cache/kagglehub/datasets/yelp-dataset/yelp-dataset/versions/4'\n",
    "else:\n",
    "    path = kagglehub.dataset_download(\"yelp-dataset/yelp-dataset\")\n",
    "print(\"Path to dataset files:\", path)\n",
    "\n",
    "\n",
    "\n",
    "def load_data(path, filename, chunk_size=10000):\n",
    "    chunks = pd.read_json(os.path.join(path, filename), lines=True, chunksize=chunk_size)\n",
    "\n",
    "    df_list = []\n",
    "\n",
    "    for chunk in chunks:\n",
    "        df_list.append(chunk)\n",
    "\n",
    "\n",
    "    return pd.concat(df_list, ignore_index=True)\n",
    "\n",
    "\n",
    "\n",
    "print(\"\\nDataset Load Times:\\n\")\n",
    "start_time = time.time()\n",
    "businesses_df = load_data(path, \"yelp_academic_dataset_business.json\")\n",
    "end_time = time.time()\n",
    "elapsed_time = end_time - start_time\n",
    "print(f\"Business Load Time: {elapsed_time:.4f} seconds\")\n",
    "\n",
    "# start_time = time.time()\n",
    "# tips_df = load_data(path, \"yelp_academic_dataset_tip.json\")\n",
    "# end_time = time.time()\n",
    "# elapsed_time = end_time - start_time\n",
    "# print(f\"Tips Load Time: {elapsed_time:.4f} seconds\")\n",
    "\n",
    "start_time = time.time()\n",
    "reviews_df = load_data(path, \"yelp_academic_dataset_review.json\")\n",
    "# num_rev_load = 2000000\n",
    "num_rev_load = 100000000\n",
    "if num_rev_load < len(reviews_df):\n",
    "    reviews_df = reviews_df.sample(n=num_rev_load)\n",
    "end_time = time.time()\n",
    "elapsed_time = end_time - start_time\n",
    "print(f\"Review Load Time: {elapsed_time:.4f} seconds\")\n",
    "\n"
   ]
  },
  {
   "cell_type": "markdown",
   "metadata": {},
   "source": [
    "\n",
    "# Clean Data"
   ]
  },
  {
   "cell_type": "markdown",
   "metadata": {},
   "source": [
    "Current Thoughts:\n",
    "* Should we be counting categories weighted based on reviews, or should we just count categories by businesses?\n",
    "* Do we need to lemmatize for a BERT model considering it has been trained? Also, can lemmatized words be tokenized?"
   ]
  },
  {
   "cell_type": "code",
   "execution_count": null,
   "metadata": {
    "execution": {
     "iopub.execute_input": "2025-02-18T21:53:19.922108Z",
     "iopub.status.busy": "2025-02-18T21:53:19.921846Z",
     "iopub.status.idle": "2025-02-18T21:53:20.297222Z",
     "shell.execute_reply": "2025-02-18T21:53:20.296309Z",
     "shell.execute_reply.started": "2025-02-18T21:53:19.922087Z"
    },
    "trusted": true
   },
   "outputs": [],
   "source": [
    "#Filter out Data that Belongs to Businesses Under a Certain Threshold\n",
    "minimum_business_reviews = 30\n",
    "reviews_df = reviews_df[reviews_df['business_id'].map(reviews_df['business_id'].value_counts()).gt(minimum_business_reviews)]\n",
    "\n",
    "#Create Merged DataFrame of Remaining Reviewed Businesses, and Split Categories into List\n",
    "df_rb = pd.merge(reviews_df, businesses_df, on=\"business_id\")\n",
    "df_rb['categories'] = df_rb['categories'].str.split(\", \")\n",
    "\n",
    "#Print Metrics\n",
    "print(f\"\\nNumber of Total Businesses Represented: {len(df_rb['business_id'].unique())}\")\n",
    "print(f\"Number of Total Reviews: {len(df_rb)}\")\n",
    "print(f\"Percentage of Reviews Kept: {len(df_rb)/num_rev_load*100}%\")"
   ]
  },
  {
   "cell_type": "code",
   "execution_count": null,
   "metadata": {
    "execution": {
     "iopub.execute_input": "2025-02-18T21:53:20.299133Z",
     "iopub.status.busy": "2025-02-18T21:53:20.298798Z",
     "iopub.status.idle": "2025-02-18T21:53:20.678991Z",
     "shell.execute_reply": "2025-02-18T21:53:20.677920Z",
     "shell.execute_reply.started": "2025-02-18T21:53:20.299109Z"
    },
    "trusted": true
   },
   "outputs": [],
   "source": [
    "#Dictionary to Store Categories, and Variables to Report Later\n",
    "all_unique_cats = {}\n",
    "total_cats_before = df_rb['categories'].apply(len).sum()\n",
    "len_before = len(df_rb)\n",
    "\n",
    "#Iterate through each Business' Categories and Count Occurances (Weighted Based on Reviews)\n",
    "for cats in df_rb['categories']:\n",
    "    for cat in cats:\n",
    "        if cat in all_unique_cats:\n",
    "            all_unique_cats[cat] += 1\n",
    "        else:\n",
    "            all_unique_cats[cat] = 1\n",
    "\n",
    "#Number of Top Categories to Keep\n",
    "num_cats = 30\n",
    "sorted_cats = sorted(all_unique_cats.items(), key=lambda x: x[1], reverse=True)\n",
    "\n",
    "#Select Top Categories\n",
    "top_cats = [x[0] for x in sorted_cats[:num_cats]]\n",
    "\n",
    "#Remove Reviews that Belong to Businesses with None of the Top Categories\n",
    "df_rb = df_rb[df_rb['categories'].apply(lambda x: bool(set(x) & set(top_cats)))]\n",
    "# df_rb = df_rb[df_rb['categories'].apply(lambda x: any(cat in top_cats for cat in x) if x else False)]\n",
    "\n",
    "#Remove Categories from Remaining Reviews that are not in the Top Categories\n",
    "# df_rb['categories'] = df_rb['categories'].apply(lambda x: ([i for i in x if i in top_cats]))\n",
    "top_cats_set = set(top_cats)\n",
    "df_rb['categories'] = df_rb['categories'].apply(lambda x: [i for i in x if i in top_cats_set])\n",
    "\n",
    "#Count Total Number of Categories\n",
    "# total_cats_after = df_rb['categories'].apply(len).sum()\n",
    "total_cats_after = sum(len(cats) for cats in df_rb['categories'])\n",
    "\n",
    "print(f\"\\nTotal Initial Unique Categories: {len(all_unique_cats)}\")\n",
    "print(f\"Number of Total Reviews: {len(df_rb)}\")\n",
    "print(f\"Percentage of Reviews Kept: {len(df_rb)/num_rev_load*100}%\")\n",
    "print(f\"Average Number of Categories Before: {total_cats_before/len_before}\")\n",
    "print(f\"Average Number of Categories After: {total_cats_after/len(df_rb)}\")"
   ]
  },
  {
   "cell_type": "code",
   "execution_count": null,
   "metadata": {},
   "outputs": [],
   "source": [
    "tmp_save_path = save_df(df_rb, 'tmp_df_rb', 'data', 20)\n",
    "\n",
    "df_rb_dask = load_dask_data(tmp_save_path)\n",
    "\n",
    "send_email(\"At the leave off point\", \"\")"
   ]
  },
  {
   "cell_type": "code",
   "execution_count": null,
   "metadata": {},
   "outputs": [],
   "source": [
    "# # Load the spaCy English model\n",
    "\n",
    "os.system(\"./venv/bin/python -m spacy download en_core_web_sm\")\n",
    "# os.system(\"python -m spacy download en_core_web_md\")\n",
    "\n",
    "nlp = spacy.load('en_core_web_sm', disable=[\"parser\", \"ner\"])\n",
    "\n",
    "\n",
    "def lemmatize(text):\n",
    "    # Process the text using spaCy\n",
    "    # start_time = time.time()\n",
    "    doc = nlp(text)\n",
    "    # end_time = time.time()\n",
    "    # elapsed_time = end_time - start_time\n",
    "    # print(f\"Step 1 Load Time: {elapsed_time:.4f} seconds\")\n",
    "    \n",
    "    # Extract lemmatized tokens\n",
    "    # start_time = time.time()\n",
    "    lemmatized_tokens = [token.lemma_ for token in doc]\n",
    "    # end_time = time.time()\n",
    "    # elapsed_time = end_time - start_time\n",
    "    # print(f\"Step 2 Load Time: {elapsed_time:.4f} seconds\")\n",
    "    \n",
    "    # Join the lemmatized tokens into a sentence\n",
    "    lemmatized_text = ' '.join(lemmatized_tokens)\n",
    "\n",
    "    return lemmatized_text\n",
    "\n"
   ]
  },
  {
   "cell_type": "code",
   "execution_count": null,
   "metadata": {
    "execution": {
     "iopub.execute_input": "2025-02-18T21:53:22.050248Z",
     "iopub.status.busy": "2025-02-18T21:53:22.049858Z",
     "iopub.status.idle": "2025-02-18T21:53:35.568520Z",
     "shell.execute_reply": "2025-02-18T21:53:35.567321Z",
     "shell.execute_reply.started": "2025-02-18T21:53:22.050177Z"
    },
    "trusted": true
   },
   "outputs": [],
   "source": [
    "#Clean review text field\n",
    "import nltk\n",
    "nltk.download('stopwords')\n",
    "sw = stopwords.words('english')\n",
    "def clean_text(text):\n",
    "    text = text.lower()\n",
    "    text = re.sub(r\"[^a-zA-Z?.,!¿]+\", \" \", text) # replacing everything with space except (a-z, A-Z, \".\", \"?\", \"!\", \",\")\n",
    "    text = re.sub(r\"http\\S+\", \"\",text) #Removing URLs \n",
    "    #text = re.sub(r\"http\", \"\",text)\n",
    "    html = re.compile(r'<.*?>')\n",
    "    text = html.sub(r'',text) #Removing html tags\n",
    "    punctuations = '@#!?+&*[]-%.:/();$=><|{}^,' + \"'`\" + '_'\n",
    "    for p in punctuations:\n",
    "        text = text.replace(p,'') #Removing punctuations\n",
    "    text = [word.lower() for word in text.split() if word.lower() not in sw]\n",
    "    text = \" \".join(text) #removing stopwords\n",
    "    emoji_pattern = re.compile(\"[\"\n",
    "                           u\"\\U0001F600-\\U0001F64F\"  # emoticons\n",
    "                           u\"\\U0001F300-\\U0001F5FF\"  # symbols & pictographs\n",
    "                           u\"\\U0001F680-\\U0001F6FF\"  # transport & map symbols\n",
    "                           u\"\\U0001F1E0-\\U0001F1FF\"  # flags (iOS)\n",
    "                           u\"\\U00002702-\\U000027B0\"\n",
    "                           u\"\\U000024C2-\\U0001F251\"\n",
    "                           \"]+\", flags=re.UNICODE)\n",
    "    text = emoji_pattern.sub(r'', text) #Removing emojis\n",
    "    return text\n",
    "\n",
    "# df_rb['text'] = df_rb['text'].apply(lambda x: clean_text(x))\n",
    "partitions = []\n",
    "for partition in df_rb_dask.to_delayed():\n",
    "    partition_df = partition.compute()  # Load only one partition into memory\n",
    "    partition_df['text'] = partition_df['text'].apply(lambda x: clean_text(x))\n",
    "    partition_df['text'] = partition_df['text'].apply(lambda x: lemmatize(x))\n",
    "    partitions.append(partition_df)\n",
    "df_rb_dask = dd.from_pandas(pd.concat(partitions), npartitions=len(partitions))"
   ]
  },
  {
   "cell_type": "code",
   "execution_count": null,
   "metadata": {},
   "outputs": [],
   "source": [
    "save_df(pd.concat(partitions), 'new_reviews_parquet', 'data', 20)"
   ]
  },
  {
   "cell_type": "code",
   "execution_count": null,
   "metadata": {},
   "outputs": [],
   "source": [
    "send_email(\"Download completed at home\", \"\")"
   ]
  },
  {
   "cell_type": "code",
   "execution_count": null,
   "metadata": {},
   "outputs": [],
   "source": []
  },
  {
   "cell_type": "code",
   "execution_count": null,
   "metadata": {},
   "outputs": [],
   "source": []
  }
 ],
 "metadata": {
  "kaggle": {
   "accelerator": "none",
   "dataSources": [
    {
     "datasetId": 10100,
     "sourceId": 3316532,
     "sourceType": "datasetVersion"
    }
   ],
   "dockerImageVersionId": 30886,
   "isGpuEnabled": false,
   "isInternetEnabled": true,
   "language": "python",
   "sourceType": "notebook"
  },
  "kernelspec": {
   "display_name": "venv",
   "language": "python",
   "name": "python3"
  },
  "language_info": {
   "codemirror_mode": {
    "name": "ipython",
    "version": 3
   },
   "file_extension": ".py",
   "mimetype": "text/x-python",
   "name": "python",
   "nbconvert_exporter": "python",
   "pygments_lexer": "ipython3",
   "version": "3.12.3"
  }
 },
 "nbformat": 4,
 "nbformat_minor": 4
}
